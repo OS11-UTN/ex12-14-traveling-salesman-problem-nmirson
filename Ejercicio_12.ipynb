{
  "nbformat": 4,
  "nbformat_minor": 0,
  "metadata": {
    "colab": {
      "name": "Ejercicio_12.ipynb",
      "provenance": [],
      "collapsed_sections": []
    },
    "kernelspec": {
      "name": "python3",
      "display_name": "Python 3"
    }
  },
  "cells": [
    {
      "cell_type": "code",
      "metadata": {
        "id": "83e3B_B7S3YR",
        "colab_type": "code",
        "colab": {
          "base_uri": "https://localhost:8080/",
          "height": 840
        },
        "outputId": "ebd99808-f614-4851-bcae-50ae56c39a9c"
      },
      "source": [
        "import numpy as np\n",
        "from scipy.optimize import linprog\n",
        "import random \n",
        "from matplotlib import pyplot as plt\n",
        "from scipy.spatial import distance\n",
        "\n",
        "\n",
        "\n",
        "def nn2na(NN):\n",
        "  idx = np.argwhere(NN)\n",
        "  NA = np.zeros([NN.shape[0], idx.shape[0]]).astype(int)\n",
        "  for i, arc in enumerate(idx):\n",
        "    NA[arc[0], i] = 1\n",
        "    NA[arc[1], i] = -1\n",
        "\n",
        "  arc_idx = [ (arc[0], arc[1]) for arc in idx]\n",
        "  return NA, arc_idx\n",
        "\n",
        "#initialize the random\n",
        "random.seed(a=2)\n",
        "\n",
        "#generating the data Node-Node matrix\n",
        "Nodes = 25\n",
        "NN = np.ones(shape=(Nodes,Nodes), dtype=np.int8)\n",
        "np.fill_diagonal(NN,0)\n",
        "\n",
        "\n",
        "#creating random nodes\n",
        "coord = []\n",
        "for i in range(Nodes):\n",
        "    for j in range(2):\n",
        "        if i != j:\n",
        "           x = random.randint(0,100)\n",
        "           y = random.randint(0,100)\n",
        "           coord.append((x,y))\n",
        "\n",
        "#creating costs as the distance of 2 points.\n",
        "C = []\n",
        "for i in range(Nodes):\n",
        "   for j in range(Nodes):\n",
        "      if i != j:\n",
        "         C.append(distance.euclidean(coord[i], coord[j])) \n",
        "        \n",
        "\n",
        "#formulation of LP\n",
        "NA, arcs = nn2na(NN)\n",
        "Aeq1 = np.where(NA == 1, 1, 0)\n",
        "Aeq2 = np.where(NA == -1, 1, 0)\n",
        "Aeq = np.concatenate((Aeq1, Aeq2), axis=0)\n",
        "beq = np.zeros(Nodes*2)\n",
        "beq.fill(1)\n",
        "bounds = tuple([(0, None) for arc in range(0, Aeq.shape[1])])\n",
        "\n",
        "\n",
        "\n",
        "#optimization\n",
        "result = linprog(C, A_eq=Aeq, b_eq=beq, bounds=bounds, method='revised simplex')\n",
        "\n",
        "\n",
        "#printing the solution\n",
        "Active = []\n",
        "for k in range(Nodes):\n",
        "    temp = list(result.x[(Nodes-1)*k:(Nodes-1)*(k+1)])\n",
        "    temp.insert(k, 0.0)\n",
        "    Active.append(temp)\n",
        "\n",
        "\n",
        "print(\"\\nActivated arcs: \")\n",
        "print(\"\\n  Arc     Cost\")\n",
        "for i in range(len(result.x)):\n",
        "    if result.x[i] != 0:\n",
        "        print(arcs[i], \" = \", C[i])\n",
        "\n",
        "print(\"\\nTotal Cost:\", result.fun)\n",
        "\n",
        "for i in range(Nodes):\n",
        "    for j in range(Nodes):\n",
        "        if Active[i][j] == 1:\n",
        "            x = [coord[i][0], coord[j][0]]\n",
        "            y = [coord[i][1], coord[j][1]]\n",
        "            plt.plot(x, y, 'go-')\n",
        "plt.show()\n",
        "\n",
        "#as it can be seen the resolution generates different subtours thous the given method couldn't find a\n",
        "#single path that connects each of the nodes. To solve this we could implement Dantzig's restrictions,\n",
        "#or go for a metaheuristic algorithm such as GRASP or Genetic algorithms."
      ],
      "execution_count": 29,
      "outputs": [
        {
          "output_type": "stream",
          "text": [
            "/usr/local/lib/python3.6/dist-packages/ipykernel_launcher.py:57: OptimizeWarning: A_eq does not appear to be of full row rank. To improve performance, check the problem formulation for redundant equality constraints.\n"
          ],
          "name": "stderr"
        },
        {
          "output_type": "stream",
          "text": [
            "\n",
            "Activated arcs: \n",
            "\n",
            "  Arc     Cost\n",
            "(0, 13)  =  8.54400374531753\n",
            "(1, 20)  =  13.0\n",
            "(2, 6)  =  26.248809496813376\n",
            "(3, 7)  =  19.1049731745428\n",
            "(4, 5)  =  5.0\n",
            "(5, 4)  =  5.0\n",
            "(6, 17)  =  17.26267650163207\n",
            "(7, 3)  =  19.1049731745428\n",
            "(8, 9)  =  12.083045973594572\n",
            "(9, 8)  =  12.083045973594572\n",
            "(10, 12)  =  13.038404810405298\n",
            "(11, 22)  =  9.848857801796104\n",
            "(12, 10)  =  13.038404810405298\n",
            "(13, 0)  =  8.54400374531753\n",
            "(14, 15)  =  12.529964086141668\n",
            "(15, 14)  =  12.529964086141668\n",
            "(16, 23)  =  8.246211251235321\n",
            "(17, 2)  =  23.0\n",
            "(18, 1)  =  20.0\n",
            "(19, 21)  =  15.652475842498529\n",
            "(20, 18)  =  11.0\n",
            "(21, 19)  =  15.652475842498529\n",
            "(22, 24)  =  21.840329667841555\n",
            "(23, 16)  =  8.246211251235321\n",
            "(24, 11)  =  22.67156809750927\n",
            "\n",
            "Total Cost: 353.2703993330638\n"
          ],
          "name": "stdout"
        },
        {
          "output_type": "display_data",
          "data": {
            "image/png": "[encoded data removed]",
            "text/plain": [
              "<Figure size 432x288 with 1 Axes>"
            ]
          },
          "metadata": {
            "tags": [],
            "needs_background": "light"
          }
        }
      ]
    }
  ]
}